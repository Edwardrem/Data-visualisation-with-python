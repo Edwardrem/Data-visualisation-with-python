{
  "metadata": {
    "language_info": {
      "codemirror_mode": {
        "name": "python",
        "version": 3
      },
      "file_extension": ".py",
      "mimetype": "text/x-python",
      "name": "python",
      "nbconvert_exporter": "python",
      "pygments_lexer": "ipython3",
      "version": "3.8"
    },
    "kernelspec": {
      "name": "python",
      "display_name": "Pyolite",
      "language": "python"
    }
  },
  "nbformat_minor": 4,
  "nbformat": 4,
  "cells": [
    {
      "cell_type": "markdown",
      "source": "<p style=\"text-align:center\">\n    <a href=\"https://skills.network/?utm_medium=Exinfluencer&utm_source=Exinfluencer&utm_content=000026UJ&utm_term=10006555&utm_id=NA-SkillsNetwork-Channel-SkillsNetworkCoursesIBMDeveloperSkillsNetworkDV0101ENSkillsNetwork970-2023-01-01\">\n    <img src=\"https://cf-courses-data.s3.us.cloud-object-storage.appdomain.cloud/assets/logos/SN_web_lightmode.png\" width=\"200\" alt=\"Skills Network Logo\"  />\n    </a>\n</p>\n\n# Pie Charts, Box Plots, Scatter Plots, and Bubble Plots\n\nEstimated time needed: **30** minutes\n\n## Objectives\n\nAfter completing this lab you will be able to:\n\n*   Explore Matplotlib library further\n*   Create pie charts, box plots, scatter plots and bubble charts\n",
      "metadata": {
        "button": false,
        "new_sheet": false,
        "run_control": {
          "read_only": false
        }
      }
    },
    {
      "cell_type": "markdown",
      "source": "## Table of Contents\n\n<div class=\"alert alert-block alert-info\" style=\"margin-top: 20px\">\n\n1.  [Exploring Datasets with *p*andas](#0)<br>\n2.  [Downloading and Prepping Data](#2)<br>\n3.  [Visualizing Data using Matplotlib](#4) <br>\n4.  [Pie Charts](#6) <br>\n5.  [Box Plots](#8) <br>\n6.  [Scatter Plots](#10) <br>\n7.  [Bubble Plots](#12) <br>\n\n</div>\n",
      "metadata": {
        "button": false,
        "new_sheet": false,
        "run_control": {
          "read_only": false
        }
      }
    },
    {
      "cell_type": "markdown",
      "source": "# Exploring Datasets with *pandas* and Matplotlib<a id=\"0\"></a>\n\nToolkits: The course heavily relies on [*pandas*](http://pandas.pydata.org/?utm_medium=Exinfluencer&utm_source=Exinfluencer&utm_content=000026UJ&utm_term=10006555&utm_id=NA-SkillsNetwork-Channel-SkillsNetworkCoursesIBMDeveloperSkillsNetworkDV0101ENSkillsNetwork20297740-2021-01-01) and [**Numpy**](http://www.numpy.org/?utm_medium=Exinfluencer&utm_source=Exinfluencer&utm_content=000026UJ&utm_term=10006555&utm_id=NA-SkillsNetwork-Channel-SkillsNetworkCoursesIBMDeveloperSkillsNetworkDV0101ENSkillsNetwork20297740-2021-01-01) for data wrangling, analysis, and visualization. The primary plotting library we will explore in the course is [Matplotlib](http://matplotlib.org/?utm_medium=Exinfluencer&utm_source=Exinfluencer&utm_content=000026UJ&utm_term=10006555&utm_id=NA-SkillsNetwork-Channel-SkillsNetworkCoursesIBMDeveloperSkillsNetworkDV0101ENSkillsNetwork20297740-2021-01-01).\n\nDataset: Immigration to Canada from 1980 to 2013 - [International migration flows to and from selected countries - The 2015 revision](http://www.un.org/en/development/desa/population/migration/data/empirical2/migrationflows.shtml?utm_medium=Exinfluencer&utm_source=Exinfluencer&utm_content=000026UJ&utm_term=10006555&utm_id=NA-SkillsNetwork-Channel-SkillsNetworkCoursesIBMDeveloperSkillsNetworkDV0101ENSkillsNetwork20297740-2021-01-01) from United Nation's website.\n\nThe dataset contains annual data on the flows of international migrants as recorded by the countries of destination. The data presents both inflows and outflows according to the place of birth, citizenship or place of previous / next residence both for foreigners and nationals. In this lab, we will focus on the Canadian Immigration data.\n",
      "metadata": {
        "button": false,
        "new_sheet": false,
        "run_control": {
          "read_only": false
        }
      }
    },
    {
      "cell_type": "markdown",
      "source": "# Downloading and Prepping Data <a id=\"2\"></a>\n",
      "metadata": {
        "button": false,
        "new_sheet": false,
        "run_control": {
          "read_only": false
        }
      }
    },
    {
      "cell_type": "markdown",
      "source": "The first thing we'll do is install **openpyxl** (formerly **xlrd**), a module that *pandas* requires to read Excel files.\n",
      "metadata": {}
    },
    {
      "cell_type": "code",
      "source": "import piplite\nawait piplite.install(['openpyxl==3.0.9'])",
      "metadata": {
        "trusted": true
      },
      "execution_count": 1,
      "outputs": []
    },
    {
      "cell_type": "markdown",
      "source": "Import primary modules.\n",
      "metadata": {
        "button": false,
        "new_sheet": false,
        "run_control": {
          "read_only": false
        }
      }
    },
    {
      "cell_type": "code",
      "source": "import numpy as np  # useful for many scientific computing in Python\nimport pandas as pd # primary data structure library",
      "metadata": {
        "button": false,
        "jupyter": {
          "outputs_hidden": false
        },
        "new_sheet": false,
        "run_control": {
          "read_only": false
        },
        "collapsed": false,
        "trusted": true
      },
      "execution_count": 2,
      "outputs": []
    },
    {
      "cell_type": "markdown",
      "source": "Download the Canadian Immigration dataset and read it into a *pandas* dataframe.\n",
      "metadata": {
        "button": false,
        "new_sheet": false,
        "run_control": {
          "read_only": false
        }
      }
    },
    {
      "cell_type": "code",
      "source": "from js import fetch\nimport io\n\nURL = 'https://cf-courses-data.s3.us.cloud-object-storage.appdomain.cloud/IBMDeveloperSkillsNetwork-DV0101EN-SkillsNetwork/Data%20Files/Canada.xlsx'\nresp = await fetch(URL)\ntext = io.BytesIO((await resp.arrayBuffer()).to_py())\n\ndf_can = pd.read_excel(\n    text,\n    sheet_name='Canada by Citizenship',\n    skiprows=range(20),\n    skipfooter=2)\nprint('Data downloaded and read into a dataframe!')",
      "metadata": {
        "button": false,
        "jupyter": {
          "outputs_hidden": false
        },
        "new_sheet": false,
        "run_control": {
          "read_only": false
        },
        "collapsed": false,
        "trusted": true
      },
      "execution_count": 3,
      "outputs": [
        {
          "name": "stdout",
          "text": "Data downloaded and read into a dataframe!\n",
          "output_type": "stream"
        }
      ]
    },
    {
      "cell_type": "markdown",
      "source": "Let's take a look at the first five items in our dataset.\n",
      "metadata": {
        "button": false,
        "new_sheet": false,
        "run_control": {
          "read_only": false
        }
      }
    },
    {
      "cell_type": "code",
      "source": "df_can.head()",
      "metadata": {
        "button": false,
        "jupyter": {
          "outputs_hidden": false
        },
        "new_sheet": false,
        "run_control": {
          "read_only": false
        },
        "collapsed": false,
        "trusted": true
      },
      "execution_count": 4,
      "outputs": [
        {
          "execution_count": 4,
          "output_type": "execute_result",
          "data": {
            "text/plain": "         Type    Coverage          OdName  AREA AreaName   REG  \\\n0  Immigrants  Foreigners     Afghanistan   935     Asia  5501   \n1  Immigrants  Foreigners         Albania   908   Europe   925   \n2  Immigrants  Foreigners         Algeria   903   Africa   912   \n3  Immigrants  Foreigners  American Samoa   909  Oceania   957   \n4  Immigrants  Foreigners         Andorra   908   Europe   925   \n\n           RegName  DEV             DevName  1980  ...  2004  2005  2006  \\\n0    Southern Asia  902  Developing regions    16  ...  2978  3436  3009   \n1  Southern Europe  901   Developed regions     1  ...  1450  1223   856   \n2  Northern Africa  902  Developing regions    80  ...  3616  3626  4807   \n3        Polynesia  902  Developing regions     0  ...     0     0     1   \n4  Southern Europe  901   Developed regions     0  ...     0     0     1   \n\n   2007  2008  2009  2010  2011  2012  2013  \n0  2652  2111  1746  1758  2203  2635  2004  \n1   702   560   716   561   539   620   603  \n2  3623  4005  5393  4752  4325  3774  4331  \n3     0     0     0     0     0     0     0  \n4     1     0     0     0     0     1     1  \n\n[5 rows x 43 columns]",
            "text/html": "<div>\n<style scoped>\n    .dataframe tbody tr th:only-of-type {\n        vertical-align: middle;\n    }\n\n    .dataframe tbody tr th {\n        vertical-align: top;\n    }\n\n    .dataframe thead th {\n        text-align: right;\n    }\n</style>\n<table border=\"1\" class=\"dataframe\">\n  <thead>\n    <tr style=\"text-align: right;\">\n      <th></th>\n      <th>Type</th>\n      <th>Coverage</th>\n      <th>OdName</th>\n      <th>AREA</th>\n      <th>AreaName</th>\n      <th>REG</th>\n      <th>RegName</th>\n      <th>DEV</th>\n      <th>DevName</th>\n      <th>1980</th>\n      <th>...</th>\n      <th>2004</th>\n      <th>2005</th>\n      <th>2006</th>\n      <th>2007</th>\n      <th>2008</th>\n      <th>2009</th>\n      <th>2010</th>\n      <th>2011</th>\n      <th>2012</th>\n      <th>2013</th>\n    </tr>\n  </thead>\n  <tbody>\n    <tr>\n      <th>0</th>\n      <td>Immigrants</td>\n      <td>Foreigners</td>\n      <td>Afghanistan</td>\n      <td>935</td>\n      <td>Asia</td>\n      <td>5501</td>\n      <td>Southern Asia</td>\n      <td>902</td>\n      <td>Developing regions</td>\n      <td>16</td>\n      <td>...</td>\n      <td>2978</td>\n      <td>3436</td>\n      <td>3009</td>\n      <td>2652</td>\n      <td>2111</td>\n      <td>1746</td>\n      <td>1758</td>\n      <td>2203</td>\n      <td>2635</td>\n      <td>2004</td>\n    </tr>\n    <tr>\n      <th>1</th>\n      <td>Immigrants</td>\n      <td>Foreigners</td>\n      <td>Albania</td>\n      <td>908</td>\n      <td>Europe</td>\n      <td>925</td>\n      <td>Southern Europe</td>\n      <td>901</td>\n      <td>Developed regions</td>\n      <td>1</td>\n      <td>...</td>\n      <td>1450</td>\n      <td>1223</td>\n      <td>856</td>\n      <td>702</td>\n      <td>560</td>\n      <td>716</td>\n      <td>561</td>\n      <td>539</td>\n      <td>620</td>\n      <td>603</td>\n    </tr>\n    <tr>\n      <th>2</th>\n      <td>Immigrants</td>\n      <td>Foreigners</td>\n      <td>Algeria</td>\n      <td>903</td>\n      <td>Africa</td>\n      <td>912</td>\n      <td>Northern Africa</td>\n      <td>902</td>\n      <td>Developing regions</td>\n      <td>80</td>\n      <td>...</td>\n      <td>3616</td>\n      <td>3626</td>\n      <td>4807</td>\n      <td>3623</td>\n      <td>4005</td>\n      <td>5393</td>\n      <td>4752</td>\n      <td>4325</td>\n      <td>3774</td>\n      <td>4331</td>\n    </tr>\n    <tr>\n      <th>3</th>\n      <td>Immigrants</td>\n      <td>Foreigners</td>\n      <td>American Samoa</td>\n      <td>909</td>\n      <td>Oceania</td>\n      <td>957</td>\n      <td>Polynesia</td>\n      <td>902</td>\n      <td>Developing regions</td>\n      <td>0</td>\n      <td>...</td>\n      <td>0</td>\n      <td>0</td>\n      <td>1</td>\n      <td>0</td>\n      <td>0</td>\n      <td>0</td>\n      <td>0</td>\n      <td>0</td>\n      <td>0</td>\n      <td>0</td>\n    </tr>\n    <tr>\n      <th>4</th>\n      <td>Immigrants</td>\n      <td>Foreigners</td>\n      <td>Andorra</td>\n      <td>908</td>\n      <td>Europe</td>\n      <td>925</td>\n      <td>Southern Europe</td>\n      <td>901</td>\n      <td>Developed regions</td>\n      <td>0</td>\n      <td>...</td>\n      <td>0</td>\n      <td>0</td>\n      <td>1</td>\n      <td>1</td>\n      <td>0</td>\n      <td>0</td>\n      <td>0</td>\n      <td>0</td>\n      <td>1</td>\n      <td>1</td>\n    </tr>\n  </tbody>\n</table>\n<p>5 rows × 43 columns</p>\n</div>"
          },
          "metadata": {}
        }
      ]
    },
    {
      "cell_type": "markdown",
      "source": "Let's find out how many entries there are in our dataset.\n",
      "metadata": {
        "button": false,
        "new_sheet": false,
        "run_control": {
          "read_only": false
        }
      }
    },
    {
      "cell_type": "code",
      "source": "# print the dimensions of the dataframe\nprint(df_can.shape)",
      "metadata": {
        "button": false,
        "jupyter": {
          "outputs_hidden": false
        },
        "new_sheet": false,
        "run_control": {
          "read_only": false
        },
        "collapsed": false,
        "trusted": true
      },
      "execution_count": 5,
      "outputs": [
        {
          "name": "stdout",
          "text": "(195, 43)\n",
          "output_type": "stream"
        }
      ]
    },
    {
      "cell_type": "markdown",
      "source": "Clean up data. We will make some modifications to the original dataset to make it easier to create our visualizations. Refer to *Introduction to Matplotlib and Line Plots* and *Area Plots, Histograms, and Bar Plots* for a detailed description of this preprocessing.\n",
      "metadata": {
        "button": false,
        "new_sheet": false,
        "run_control": {
          "read_only": false
        }
      }
    },
    {
      "cell_type": "code",
      "source": "# clean up the dataset to remove unnecessary columns (eg. REG) \ndf_can.drop(['AREA', 'REG', 'DEV', 'Type', 'Coverage'], axis=1, inplace=True)\n\n# let's rename the columns so that they make sense\ndf_can.rename(columns={'OdName':'Country', 'AreaName':'Continent','RegName':'Region'}, inplace=True)\n\n# for sake of consistency, let's also make all column labels of type string\ndf_can.columns = list(map(str, df_can.columns))\n\n# set the country name as index - useful for quickly looking up countries using .loc method\ndf_can.set_index('Country', inplace=True)\n\n# add total column\ndf_can['Total'] = df_can.sum(axis=1)\n\n# years that we will be using in this lesson - useful for plotting later on\nyears = list(map(str, range(1980, 2014)))\nprint('data dimensions:', df_can.shape)",
      "metadata": {
        "button": false,
        "jupyter": {
          "outputs_hidden": false
        },
        "new_sheet": false,
        "run_control": {
          "read_only": false
        },
        "collapsed": false,
        "trusted": true
      },
      "execution_count": 6,
      "outputs": [
        {
          "name": "stderr",
          "text": "<ipython-input-6-5b807af711f8>:14: FutureWarning: Dropping of nuisance columns in DataFrame reductions (with 'numeric_only=None') is deprecated; in a future version this will raise TypeError.  Select only valid columns before calling the reduction.\n  df_can['Total'] = df_can.sum(axis=1)\n",
          "output_type": "stream"
        },
        {
          "name": "stdout",
          "text": "data dimensions: (195, 38)\n",
          "output_type": "stream"
        }
      ]
    },
    {
      "cell_type": "markdown",
      "source": "# Visualizing Data using Matplotlib<a id=\"4\"></a>\n",
      "metadata": {
        "button": false,
        "new_sheet": false,
        "run_control": {
          "read_only": false
        }
      }
    },
    {
      "cell_type": "markdown",
      "source": "Import `Matplotlib`.\n",
      "metadata": {
        "button": false,
        "new_sheet": false,
        "run_control": {
          "read_only": false
        }
      }
    },
    {
      "cell_type": "code",
      "source": "%matplotlib inline\n\nimport matplotlib as mpl\nimport matplotlib.pyplot as plt\n\nmpl.style.use('ggplot') # optional: for ggplot-like style\n\n# check for latest version of Matplotlib\nprint('Matplotlib version: ', mpl.__version__) # >= 2.0.0",
      "metadata": {
        "button": false,
        "jupyter": {
          "outputs_hidden": false
        },
        "new_sheet": false,
        "run_control": {
          "read_only": false
        },
        "collapsed": false,
        "trusted": true
      },
      "execution_count": 7,
      "outputs": [
        {
          "name": "stdout",
          "text": "Matplotlib version:  3.5.1\n",
          "output_type": "stream"
        }
      ]
    },
    {
      "cell_type": "markdown",
      "source": "# Pie Charts <a id=\"6\"></a>\n\nA `pie chart` is a circular graphic that displays numeric proportions by dividing a circle (or pie) into proportional slices. You are most likely already familiar with pie charts as it is widely used in business and media. We can create pie charts in Matplotlib by passing in the `kind=pie` keyword.\n\nLet's use a pie chart to explore the proportion (percentage) of new immigrants grouped by continents for the entire time period from 1980 to 2013.\n",
      "metadata": {
        "button": false,
        "new_sheet": false,
        "run_control": {
          "read_only": false
        }
      }
    },
    {
      "cell_type": "markdown",
      "source": "Step 1: Gather data.\n\nWe will use *pandas* `groupby` method to summarize the immigration data by `Continent`. The general process of `groupby` involves the following steps:\n\n1.  **Split:** Splitting the data into groups based on some criteria.\n2.  **Apply:** Applying a function to each group independently:\n    .sum()\n    .count()\n    .mean()\n    .std()\n    .aggregate()\n    .apply()\n    .etc..\n3.  **Combine:** Combining the results into a data structure.\n",
      "metadata": {
        "button": false,
        "new_sheet": false,
        "run_control": {
          "read_only": false
        }
      }
    },
    {
      "cell_type": "markdown",
      "source": "<img src=\"https://cf-courses-data.s3.us.cloud-object-storage.appdomain.cloud/IBMDeveloperSkillsNetwork-DV0101EN-SkillsNetwork/labs/Module%203/images/Mod3Fig4SplitApplyCombine.png\" height=\"400\" align=\"center\">\n",
      "metadata": {
        "button": false,
        "new_sheet": false,
        "run_control": {
          "read_only": false
        }
      }
    },
    {
      "cell_type": "code",
      "source": "# group countries by continents and apply sum() function \ndf_continents = df_can.groupby('Continent', axis=0).sum()\n\n# note: the output of the groupby method is a `groupby' object. \n# we can not use it further until we apply a function (eg .sum())\nprint(type(df_can.groupby('Continent', axis=0)))\n\ndf_continents.head()",
      "metadata": {
        "button": false,
        "jupyter": {
          "outputs_hidden": false
        },
        "new_sheet": false,
        "run_control": {
          "read_only": false
        },
        "collapsed": false,
        "trusted": true
      },
      "execution_count": 8,
      "outputs": [
        {
          "name": "stdout",
          "text": "<class 'pandas.core.groupby.generic.DataFrameGroupBy'>\n",
          "output_type": "stream"
        },
        {
          "execution_count": 8,
          "output_type": "execute_result",
          "data": {
            "text/plain": "                                  1980   1981   1982   1983   1984   1985  \\\nContinent                                                                   \nAfrica                            3951   4363   3819   2671   2639   2650   \nAsia                             31025  34314  30214  24696  27274  23850   \nEurope                           39760  44802  42720  24638  22287  20844   \nLatin America and the Caribbean  13081  15215  16769  15427  13678  15171   \nNorthern America                  9378  10030   9074   7100   6661   6543   \n\n                                  1986   1987   1988   1989  ...    2005  \\\nContinent                                                    ...           \nAfrica                            3782   7494   7552   9894  ...   27523   \nAsia                             28739  43203  47454  60256  ...  159253   \nEurope                           24370  46698  54726  60893  ...   35955   \nLatin America and the Caribbean  21179  28471  21924  25060  ...   24747   \nNorthern America                  7074   7705   6469   6790  ...    8394   \n\n                                   2006    2007    2008    2009    2010  \\\nContinent                                                                 \nAfrica                            29188   28284   29890   34534   40892   \nAsia                             149054  133459  139894  141434  163845   \nEurope                            33053   33495   34692   35078   33425   \nLatin America and the Caribbean   24676   26011   26547   26867   28818   \nNorthern America                   9613    9463   10190    8995    8142   \n\n                                   2011    2012    2013    Total  \nContinent                                                         \nAfrica                            35441   38083   38543   618948  \nAsia                             146894  152218  155075  3317794  \nEurope                            26778   29177   28691  1410947  \nLatin America and the Caribbean   27856   27173   24950   765148  \nNorthern America                   7677    7892    8503   241142  \n\n[5 rows x 35 columns]",
            "text/html": "<div>\n<style scoped>\n    .dataframe tbody tr th:only-of-type {\n        vertical-align: middle;\n    }\n\n    .dataframe tbody tr th {\n        vertical-align: top;\n    }\n\n    .dataframe thead th {\n        text-align: right;\n    }\n</style>\n<table border=\"1\" class=\"dataframe\">\n  <thead>\n    <tr style=\"text-align: right;\">\n      <th></th>\n      <th>1980</th>\n      <th>1981</th>\n      <th>1982</th>\n      <th>1983</th>\n      <th>1984</th>\n      <th>1985</th>\n      <th>1986</th>\n      <th>1987</th>\n      <th>1988</th>\n      <th>1989</th>\n      <th>...</th>\n      <th>2005</th>\n      <th>2006</th>\n      <th>2007</th>\n      <th>2008</th>\n      <th>2009</th>\n      <th>2010</th>\n      <th>2011</th>\n      <th>2012</th>\n      <th>2013</th>\n      <th>Total</th>\n    </tr>\n    <tr>\n      <th>Continent</th>\n      <th></th>\n      <th></th>\n      <th></th>\n      <th></th>\n      <th></th>\n      <th></th>\n      <th></th>\n      <th></th>\n      <th></th>\n      <th></th>\n      <th></th>\n      <th></th>\n      <th></th>\n      <th></th>\n      <th></th>\n      <th></th>\n      <th></th>\n      <th></th>\n      <th></th>\n      <th></th>\n      <th></th>\n    </tr>\n  </thead>\n  <tbody>\n    <tr>\n      <th>Africa</th>\n      <td>3951</td>\n      <td>4363</td>\n      <td>3819</td>\n      <td>2671</td>\n      <td>2639</td>\n      <td>2650</td>\n      <td>3782</td>\n      <td>7494</td>\n      <td>7552</td>\n      <td>9894</td>\n      <td>...</td>\n      <td>27523</td>\n      <td>29188</td>\n      <td>28284</td>\n      <td>29890</td>\n      <td>34534</td>\n      <td>40892</td>\n      <td>35441</td>\n      <td>38083</td>\n      <td>38543</td>\n      <td>618948</td>\n    </tr>\n    <tr>\n      <th>Asia</th>\n      <td>31025</td>\n      <td>34314</td>\n      <td>30214</td>\n      <td>24696</td>\n      <td>27274</td>\n      <td>23850</td>\n      <td>28739</td>\n      <td>43203</td>\n      <td>47454</td>\n      <td>60256</td>\n      <td>...</td>\n      <td>159253</td>\n      <td>149054</td>\n      <td>133459</td>\n      <td>139894</td>\n      <td>141434</td>\n      <td>163845</td>\n      <td>146894</td>\n      <td>152218</td>\n      <td>155075</td>\n      <td>3317794</td>\n    </tr>\n    <tr>\n      <th>Europe</th>\n      <td>39760</td>\n      <td>44802</td>\n      <td>42720</td>\n      <td>24638</td>\n      <td>22287</td>\n      <td>20844</td>\n      <td>24370</td>\n      <td>46698</td>\n      <td>54726</td>\n      <td>60893</td>\n      <td>...</td>\n      <td>35955</td>\n      <td>33053</td>\n      <td>33495</td>\n      <td>34692</td>\n      <td>35078</td>\n      <td>33425</td>\n      <td>26778</td>\n      <td>29177</td>\n      <td>28691</td>\n      <td>1410947</td>\n    </tr>\n    <tr>\n      <th>Latin America and the Caribbean</th>\n      <td>13081</td>\n      <td>15215</td>\n      <td>16769</td>\n      <td>15427</td>\n      <td>13678</td>\n      <td>15171</td>\n      <td>21179</td>\n      <td>28471</td>\n      <td>21924</td>\n      <td>25060</td>\n      <td>...</td>\n      <td>24747</td>\n      <td>24676</td>\n      <td>26011</td>\n      <td>26547</td>\n      <td>26867</td>\n      <td>28818</td>\n      <td>27856</td>\n      <td>27173</td>\n      <td>24950</td>\n      <td>765148</td>\n    </tr>\n    <tr>\n      <th>Northern America</th>\n      <td>9378</td>\n      <td>10030</td>\n      <td>9074</td>\n      <td>7100</td>\n      <td>6661</td>\n      <td>6543</td>\n      <td>7074</td>\n      <td>7705</td>\n      <td>6469</td>\n      <td>6790</td>\n      <td>...</td>\n      <td>8394</td>\n      <td>9613</td>\n      <td>9463</td>\n      <td>10190</td>\n      <td>8995</td>\n      <td>8142</td>\n      <td>7677</td>\n      <td>7892</td>\n      <td>8503</td>\n      <td>241142</td>\n    </tr>\n  </tbody>\n</table>\n<p>5 rows × 35 columns</p>\n</div>"
          },
          "metadata": {}
        }
      ]
    },
    {
      "cell_type": "markdown",
      "source": "Step 2: Plot the data. We will pass in `kind = 'pie'` keyword, along with the following additional parameters:\n\n*   `autopct` -  is a string or function used to label the wedges with their numeric value. The label will be placed inside the wedge. If it is a format string, the label will be `fmt%pct`.\n*   `startangle` - rotates the start of the pie chart by angle degrees counterclockwise from the x-axis.\n*   `shadow` - Draws a shadow beneath the pie (to give a 3D feel).\n",
      "metadata": {
        "button": false,
        "new_sheet": false,
        "run_control": {
          "read_only": false
        }
      }
    },
    {
      "cell_type": "code",
      "source": "# autopct create %, start angle represent starting point\ndf_continents['Total'].plot(kind='pie',\n                            figsize=(5, 6),\n                            autopct='%1.1f%%', # add in percentages\n                            startangle=90,     # start angle 90° (Africa)\n                            shadow=True,       # add shadow      \n                            )\n\nplt.title('Immigration to Canada by Continent [1980 - 2013]')\nplt.axis('equal') # Sets the pie chart to look like a circle.\n\nplt.show()",
      "metadata": {
        "button": false,
        "jupyter": {
          "outputs_hidden": false
        },
        "new_sheet": false,
        "run_control": {
          "read_only": false
        },
        "collapsed": false,
        "trusted": true
      },
      "execution_count": 9,
      "outputs": [
        {
          "output_type": "display_data",
          "data": {
            "text/plain": "<pyolite.display.Image at 0x43861f8>",
            "image/png": "[encoded data removed]"
          },
          "metadata": {}
        },
        {
          "output_type": "display_data",
          "data": {
            "text/plain": "<Figure size 500x600 with 0 Axes>"
          },
          "metadata": {}
        }
      ]
    },
    {
      "cell_type": "markdown",
      "source": "The above visual is not very clear, the numbers and text overlap in some instances. Let's make a few modifications to improve the visuals:\n\n*   Remove the text labels on the pie chart by passing in `legend` and add it as a seperate legend using `plt.legend()`.\n*   Push out the percentages to sit just outside the pie chart by passing in `pctdistance` parameter.\n*   Pass in a custom set of colors for continents by passing in `colors` parameter.\n*   **Explode** the pie chart to emphasize the lowest three continents (Africa, North America, and Latin America and Caribbean) by passing in `explode` parameter.\n",
      "metadata": {
        "button": false,
        "new_sheet": false,
        "run_control": {
          "read_only": false
        }
      }
    },
    {
      "cell_type": "code",
      "source": "colors_list = ['gold', 'yellowgreen', 'lightcoral', 'lightskyblue', 'lightgreen', 'pink']\nexplode_list = [0.1, 0, 0, 0, 0.1, 0.1] # ratio for each continent with which to offset each wedge.\n\ndf_continents['Total'].plot(kind='pie',\n                            figsize=(15, 6),\n                            autopct='%1.1f%%', \n                            startangle=90,    \n                            shadow=True,       \n                            labels=None,         # turn off labels on pie chart\n                            pctdistance=1.12,    # the ratio between the center of each pie slice and the start of the text generated by autopct \n                            colors=colors_list,  # add custom colors\n                            explode=explode_list # 'explode' lowest 3 continents\n                            )\n\n# scale the title up by 12% to match pctdistance\nplt.title('Immigration to Canada by Continent [1980 - 2013]', y=1.12) \n\nplt.axis('equal') \n\n# add legend\nplt.legend(labels=df_continents.index, loc='upper left') \n\nplt.show()",
      "metadata": {
        "button": false,
        "jupyter": {
          "outputs_hidden": false
        },
        "new_sheet": false,
        "run_control": {
          "read_only": false
        },
        "collapsed": false,
        "trusted": true
      },
      "execution_count": 10,
      "outputs": [
        {
          "output_type": "display_data",
          "data": {
            "text/plain": "<pyolite.display.Image at 0x45980c0>",
            "image/png": "[encoded data removed]"
          },
          "metadata": {}
        },
        {
          "output_type": "display_data",
          "data": {
            "text/plain": "<Figure size 1500x600 with 0 Axes>"
          },
          "metadata": {}
        }
      ]
    },
    {
      "cell_type": "markdown",
      "source": "**Question:** Using a pie chart, explore the proportion (percentage) of new immigrants grouped by continents in the year 2013.\n\n**Note**: You might need to play with the explore values in order to fix any overlapping slice values.\n",
      "metadata": {
        "button": false,
        "new_sheet": false,
        "run_control": {
          "read_only": false
        }
      }
    },
    {
      "cell_type": "code",
      "source": "### type your answer here\n  #The correct answer is:\n    explode_list = [0.0, 0, 0, 0.1, 0.1, 0.2] # ratio for each continent with which to offset each wedge.\n\n    df_continents['2013'].plot(kind='pie',\n                                figsize=(15, 6),\n                                autopct='%1.1f%%', \n                                startangle=90,    \n                                shadow=True,       \n                                labels=None,                 # turn off labels on pie chart\n                                pctdistance=1.12,            # the ratio between the pie center and start of text label\n                                explode=explode_list         # 'explode' lowest 3 continents\n                                )\n\n    # scale the title up by 12% to match pctdistance\n    plt.title('Immigration to Canada by Continent in 2013', y=1.12) \n    plt.axis('equal') \n\n    # add legend\n    plt.legend(labels=df_continents.index, loc='upper left') \n\n    # show plot\n    plt.show()",
      "metadata": {
        "button": false,
        "jupyter": {
          "outputs_hidden": false
        },
        "new_sheet": false,
        "run_control": {
          "read_only": false
        },
        "collapsed": false,
        "trusted": true
      },
      "execution_count": null,
      "outputs": []
    },
    {
      "cell_type": "markdown",
      "source": "<details><summary>Click here for a sample python solution</summary>\n\n```python\n    #The correct answer is:\n    explode_list = [0.0, 0, 0, 0.1, 0.1, 0.2] # ratio for each continent with which to offset each wedge.\n\n    df_continents['2013'].plot(kind='pie',\n                                figsize=(15, 6),\n                                autopct='%1.1f%%', \n                                startangle=90,    \n                                shadow=True,       \n                                labels=None,                 # turn off labels on pie chart\n                                pctdistance=1.12,            # the ratio between the pie center and start of text label\n                                explode=explode_list         # 'explode' lowest 3 continents\n                                )\n\n    # scale the title up by 12% to match pctdistance\n    plt.title('Immigration to Canada by Continent in 2013', y=1.12) \n    plt.axis('equal') \n\n    # add legend\n    plt.legend(labels=df_continents.index, loc='upper left') \n\n    # show plot\n    plt.show()\n\n```\n\n</details>\n",
      "metadata": {
        "button": false,
        "new_sheet": false,
        "run_control": {
          "read_only": false
        }
      }
    },
    {
      "cell_type": "markdown",
      "source": "# Box Plots <a id=\"8\"></a>\n\nA `box plot` is a way of statistically representing the *distribution* of the data through five main dimensions:\n\n*   **Minimum:** The smallest number in the dataset excluding the outliers.\n*   **First quartile:** Middle number between the `minimum` and the `median`.\n*   **Second quartile (Median):** Middle number of the (sorted) dataset.\n*   **Third quartile:** Middle number between `median` and `maximum`.\n*   **Maximum:** The largest number in the dataset excluding the outliers.\n",
      "metadata": {
        "button": false,
        "new_sheet": false,
        "run_control": {
          "read_only": false
        }
      }
    },
    {
      "cell_type": "markdown",
      "source": "<img src=\"https://cf-courses-data.s3.us.cloud-object-storage.appdomain.cloud/IBMDeveloperSkillsNetwork-DV0101EN-SkillsNetwork/labs/Module%203/images/boxplot_complete.png\" width=\"440,\" align=\"center\">\n",
      "metadata": {
        "button": false,
        "new_sheet": false,
        "run_control": {
          "read_only": false
        }
      }
    },
    {
      "cell_type": "markdown",
      "source": "To make a `boxplot`, we can use `kind=box` in `plot` method invoked on a *pandas* series or dataframe.\n\nLet's plot the box plot for the Japanese immigrants between 1980 - 2013.\n",
      "metadata": {
        "button": false,
        "new_sheet": false,
        "run_control": {
          "read_only": false
        }
      }
    },
    {
      "cell_type": "markdown",
      "source": "Step 1: Get the subset of the dataset. Even though we are extracting the data for just one country, we will obtain it as a dataframe. This will help us with calling the `dataframe.describe()` method to view the percentiles.\n",
      "metadata": {
        "button": false,
        "new_sheet": false,
        "run_control": {
          "read_only": false
        }
      }
    },
    {
      "cell_type": "code",
      "source": "# to get a dataframe, place extra square brackets around 'Japan'.\ndf_japan = df_can.loc[['Japan'], years].transpose()\ndf_japan.head()",
      "metadata": {
        "button": false,
        "jupyter": {
          "outputs_hidden": false
        },
        "new_sheet": false,
        "run_control": {
          "read_only": false
        },
        "collapsed": false,
        "trusted": true
      },
      "execution_count": null,
      "outputs": []
    },
    {
      "cell_type": "markdown",
      "source": "Step 2: Plot by passing in `kind='box'`.\n",
      "metadata": {
        "button": false,
        "new_sheet": false,
        "run_control": {
          "read_only": false
        }
      }
    },
    {
      "cell_type": "code",
      "source": "df_japan.plot(kind='box', figsize=(8, 6))\n\nplt.title('Box plot of Japanese Immigrants from 1980 - 2013')\nplt.ylabel('Number of Immigrants')\n\nplt.show()",
      "metadata": {
        "button": false,
        "jupyter": {
          "outputs_hidden": false
        },
        "new_sheet": false,
        "run_control": {
          "read_only": false
        },
        "collapsed": false,
        "trusted": true
      },
      "execution_count": null,
      "outputs": []
    },
    {
      "cell_type": "markdown",
      "source": "We can immediately make a few key observations from the plot above:\n\n1.  The minimum number of immigrants is around 200 (min), maximum number is around 1300 (max), and  median number of immigrants is around 900 (median).\n2.  25% of the years for period 1980 - 2013 had an annual immigrant count of \\~500 or fewer (First quartile).\n3.  75% of the years for period 1980 - 2013 had an annual immigrant count of \\~1100 or fewer (Third quartile).\n\nWe can view the actual numbers by calling the `describe()` method on the dataframe.\n",
      "metadata": {
        "button": false,
        "new_sheet": false,
        "run_control": {
          "read_only": false
        }
      }
    },
    {
      "cell_type": "code",
      "source": "df_japan.describe()",
      "metadata": {
        "button": false,
        "jupyter": {
          "outputs_hidden": false
        },
        "new_sheet": false,
        "run_control": {
          "read_only": false
        },
        "collapsed": false,
        "trusted": true
      },
      "execution_count": null,
      "outputs": []
    },
    {
      "cell_type": "markdown",
      "source": "One of the key benefits of box plots is comparing the distribution of multiple datasets. In one of the previous labs, we observed that China and India had very similar immigration trends. Let's analyze these two countries further using box plots.\n\n**Question:** Compare the distribution of the number of new immigrants from India and China for the period 1980 - 2013.\n",
      "metadata": {
        "button": false,
        "new_sheet": false,
        "run_control": {
          "read_only": false
        }
      }
    },
    {
      "cell_type": "markdown",
      "source": "Step 1: Get the dataset for China and India and call the dataframe **df_CI**.\n",
      "metadata": {
        "button": false,
        "new_sheet": false,
        "run_control": {
          "read_only": false
        }
      }
    },
    {
      "cell_type": "code",
      "source": "### type your answer here\ndf_CI= df_can.loc[['China', 'India'], years].transpose()\n    df_CI.head()",
      "metadata": {
        "button": false,
        "jupyter": {
          "outputs_hidden": false
        },
        "new_sheet": false,
        "run_control": {
          "read_only": false
        },
        "collapsed": false,
        "trusted": true
      },
      "execution_count": null,
      "outputs": []
    },
    {
      "cell_type": "markdown",
      "source": "<details><summary>Click here for a sample python solution</summary>\n\n```python\n    #The correct answer is:\n    df_CI= df_can.loc[['China', 'India'], years].transpose()\n    df_CI.head()\n```\n\n</details>\n",
      "metadata": {
        "button": false,
        "new_sheet": false,
        "run_control": {
          "read_only": false
        }
      }
    },
    {
      "cell_type": "markdown",
      "source": "Let's view the percentiles associated with both countries using the `describe()` method.\n",
      "metadata": {
        "button": false,
        "new_sheet": false,
        "run_control": {
          "read_only": false
        }
      }
    },
    {
      "cell_type": "code",
      "source": "### type your answer here\n\n #The correct answer is:\n    df_CI.describe()",
      "metadata": {
        "button": false,
        "jupyter": {
          "outputs_hidden": false
        },
        "new_sheet": false,
        "run_control": {
          "read_only": false
        },
        "scrolled": true,
        "collapsed": false,
        "trusted": true
      },
      "execution_count": null,
      "outputs": []
    },
    {
      "cell_type": "markdown",
      "source": "<details><summary>Click here for a sample python solution</summary>\n\n```python\n    #The correct answer is:\n    df_CI.describe()\n```\n\n</details>\n",
      "metadata": {
        "button": false,
        "new_sheet": false,
        "run_control": {
          "read_only": false
        }
      }
    },
    {
      "cell_type": "markdown",
      "source": "Step 2: Plot data.\n",
      "metadata": {
        "button": false,
        "new_sheet": false,
        "run_control": {
          "read_only": false
        }
      }
    },
    {
      "cell_type": "code",
      "source": "### type your answer here\n#The correct answer is:\n    df_CI.plot(kind='box', figsize=(10, 7))\n\n    plt.title('Box plots of Immigrants from China and India (1980 - 2013)')\n    plt.ylabel('Number of Immigrants')\n\n    plt.show()\n",
      "metadata": {
        "button": false,
        "jupyter": {
          "outputs_hidden": false
        },
        "new_sheet": false,
        "run_control": {
          "read_only": false
        },
        "collapsed": false,
        "trusted": true
      },
      "execution_count": null,
      "outputs": []
    },
    {
      "cell_type": "markdown",
      "source": "<details><summary>Click here for a sample python solution</summary>\n\n```python\n    #The correct answer is:\n    df_CI.plot(kind='box', figsize=(10, 7))\n\n    plt.title('Box plots of Immigrants from China and India (1980 - 2013)')\n    plt.ylabel('Number of Immigrants')\n\n    plt.show()\n\n```\n\n</details>\n",
      "metadata": {
        "button": false,
        "new_sheet": false,
        "run_control": {
          "read_only": false
        }
      }
    },
    {
      "cell_type": "markdown",
      "source": "We can observe that, while both countries have around the same median immigrant population (\\~20,000),  China's immigrant population range is more spread out than India's. The maximum population from India for any year (36,210) is around 15% lower than the maximum population from China (42,584).\n",
      "metadata": {
        "button": false,
        "new_sheet": false,
        "run_control": {
          "read_only": false
        }
      }
    },
    {
      "cell_type": "markdown",
      "source": "If you prefer to create horizontal box plots, you can pass the `vert` parameter in the **plot** function and assign it to *False*. You can also specify a different color in case you are not a big fan of the default red color.\n",
      "metadata": {
        "button": false,
        "new_sheet": false,
        "run_control": {
          "read_only": false
        }
      }
    },
    {
      "cell_type": "code",
      "source": "# horizontal box plots\ndf_CI.plot(kind='box', figsize=(10, 7), color='blue', vert=False)\n\nplt.title('Box plots of Immigrants from China and India (1980 - 2013)')\nplt.xlabel('Number of Immigrants')\n\nplt.show()",
      "metadata": {
        "button": false,
        "jupyter": {
          "outputs_hidden": false
        },
        "new_sheet": false,
        "run_control": {
          "read_only": false
        },
        "collapsed": false,
        "trusted": true
      },
      "execution_count": null,
      "outputs": []
    },
    {
      "cell_type": "markdown",
      "source": "**Subplots**\n\nOften times we might want to plot multiple plots within the same figure. For example, we might want to perform a side by side comparison of the box plot with the line plot of China and India's immigration.\n\nTo visualize multiple plots together, we can create a **`figure`** (overall canvas) and divide it into **`subplots`**, each containing a plot. With **subplots**, we usually work with the **artist layer** instead of the **scripting layer**.\n\nTypical syntax is : <br>\n\n```python\n    fig = plt.figure() # create figure\n    ax = fig.add_subplot(nrows, ncols, plot_number) # create subplots\n```\n\nWhere\n\n*   `nrows` and `ncols` are used to notionally split the figure into (`nrows` \\* `ncols`) sub-axes,\n*   `plot_number` is used to identify the particular subplot that this function is to create within the notional grid. `plot_number` starts at 1, increments across rows first and has a maximum of `nrows` \\* `ncols` as shown below.\n\n<img src=\"https://cf-courses-data.s3.us.cloud-object-storage.appdomain.cloud/IBMDeveloperSkillsNetwork-DV0101EN-SkillsNetwork/labs/Module%203/images/Mod3Fig5Subplots_V2.png\" width=\"500\" align=\"center\">\n",
      "metadata": {
        "button": false,
        "new_sheet": false,
        "run_control": {
          "read_only": false
        }
      }
    },
    {
      "cell_type": "markdown",
      "source": "We can then specify which subplot to place each plot by passing in the `ax` paramemter in `plot()` method as follows:\n",
      "metadata": {
        "button": false,
        "new_sheet": false,
        "run_control": {
          "read_only": false
        }
      }
    },
    {
      "cell_type": "code",
      "source": "fig = plt.figure() # create figure\n\nax0 = fig.add_subplot(1, 2, 1) # add subplot 1 (1 row, 2 columns, first plot)\nax1 = fig.add_subplot(1, 2, 2) # add subplot 2 (1 row, 2 columns, second plot). See tip below**\n\n# Subplot 1: Box plot\ndf_CI.plot(kind='box', color='blue', vert=False, figsize=(20, 6), ax=ax0) # add to subplot 1\nax0.set_title('Box Plots of Immigrants from China and India (1980 - 2013)')\nax0.set_xlabel('Number of Immigrants')\nax0.set_ylabel('Countries')\n\n# Subplot 2: Line plot\ndf_CI.plot(kind='line', figsize=(20, 6), ax=ax1) # add to subplot 2\nax1.set_title ('Line Plots of Immigrants from China and India (1980 - 2013)')\nax1.set_ylabel('Number of Immigrants')\nax1.set_xlabel('Years')\n\nplt.show()",
      "metadata": {
        "button": false,
        "jupyter": {
          "outputs_hidden": false
        },
        "new_sheet": false,
        "run_control": {
          "read_only": false
        },
        "collapsed": false,
        "trusted": true
      },
      "execution_count": null,
      "outputs": []
    },
    {
      "cell_type": "markdown",
      "source": "**Tip regarding subplot convention**\n\nIn the case when `nrows`, `ncols`, and `plot_number` are all less than 10, a convenience exists such that a 3-digit number can be given instead, where the hundreds represent `nrows`, the tens represent `ncols` and the units represent `plot_number`. For instance,\n\n```python\n   subplot(211) == subplot(2, 1, 1) \n```\n\nproduces a subaxes in a figure which represents the top plot (i.e. the first) in a 2 rows by 1 column notional grid (no grid actually exists, but conceptually this is how the returned subplot has been positioned).\n",
      "metadata": {
        "button": false,
        "new_sheet": false,
        "run_control": {
          "read_only": false
        }
      }
    },
    {
      "cell_type": "markdown",
      "source": "Let's try something a little more advanced.\n\nPreviously we identified the top 15 countries based on total immigration from 1980 - 2013.\n\n**Question:** Create a box plot to visualize the distribution of the top 15 countries (based on total immigration) grouped by the *decades* `1980s`, `1990s`, and `2000s`.\n",
      "metadata": {
        "button": false,
        "new_sheet": false,
        "run_control": {
          "read_only": false
        }
      }
    },
    {
      "cell_type": "markdown",
      "source": "Step 1: Get the dataset. Get the top 15 countries based on Total immigrant population. Name the dataframe **df_top15**.\n",
      "metadata": {
        "button": false,
        "new_sheet": false,
        "run_control": {
          "read_only": false
        }
      }
    },
    {
      "cell_type": "code",
      "source": "### type your answer here\n\n# df_top15 = ...\n# df_top15\ndf_top15 = df_can.sort_values(['Total'], ascending=False, axis=0).head(15)\n    df_top15",
      "metadata": {
        "button": false,
        "jupyter": {
          "outputs_hidden": false
        },
        "new_sheet": false,
        "run_control": {
          "read_only": false
        },
        "scrolled": true,
        "collapsed": false,
        "trusted": true
      },
      "execution_count": null,
      "outputs": []
    },
    {
      "cell_type": "markdown",
      "source": "<details><summary>Click here for a sample python solution</summary>\n\n```python\n    #The correct answer is:\n    df_top15 = df_can.sort_values(['Total'], ascending=False, axis=0).head(15)\n    df_top15\n\n```\n\n</details>\n",
      "metadata": {
        "button": false,
        "new_sheet": false,
        "run_control": {
          "read_only": false
        }
      }
    },
    {
      "cell_type": "markdown",
      "source": "Step 2: Create a new dataframe which contains the aggregate for each decade. One way to do that:\n\n1.  Create a list of all years in decades 80's, 90's, and 00's.\n2.  Slice the original dataframe df_can to create a series for each decade and sum across all years for each country.\n3.  Merge the three series into a new data frame. Call your dataframe **new_df**.\n",
      "metadata": {
        "button": false,
        "new_sheet": false,
        "run_control": {
          "read_only": false
        }
      }
    },
    {
      "cell_type": "code",
      "source": "### type your answer here\n #The correct answer is:\n    \n    # create a list of all years in decades 80's, 90's, and 00's\n    years_80s = list(map(str, range(1980, 1990))) \n    years_90s = list(map(str, range(1990, 2000))) \n    years_00s = list(map(str, range(2000, 2010))) \n\n    # slice the original dataframe df_can to create a series for each decade\n    df_80s = df_top15.loc[:, years_80s].sum(axis=1) \n    df_90s = df_top15.loc[:, years_90s].sum(axis=1) \n    df_00s = df_top15.loc[:, years_00s].sum(axis=1)\n\n    # merge the three series into a new data frame\n    new_df = pd.DataFrame({'1980s': df_80s, '1990s': df_90s, '2000s':df_00s}) \n\n    # display dataframe\n    new_df.head()",
      "metadata": {
        "button": false,
        "jupyter": {
          "outputs_hidden": false
        },
        "new_sheet": false,
        "run_control": {
          "read_only": false
        },
        "scrolled": true,
        "collapsed": false,
        "trusted": true
      },
      "execution_count": null,
      "outputs": []
    },
    {
      "cell_type": "markdown",
      "source": "<details><summary>Click here for a sample python solution</summary>\n\n```python\n    #The correct answer is:\n    \n    # create a list of all years in decades 80's, 90's, and 00's\n    years_80s = list(map(str, range(1980, 1990))) \n    years_90s = list(map(str, range(1990, 2000))) \n    years_00s = list(map(str, range(2000, 2010))) \n\n    # slice the original dataframe df_can to create a series for each decade\n    df_80s = df_top15.loc[:, years_80s].sum(axis=1) \n    df_90s = df_top15.loc[:, years_90s].sum(axis=1) \n    df_00s = df_top15.loc[:, years_00s].sum(axis=1)\n\n    # merge the three series into a new data frame\n    new_df = pd.DataFrame({'1980s': df_80s, '1990s': df_90s, '2000s':df_00s}) \n\n    # display dataframe\n    new_df.head()\n\n\n```\n\n</details>\n",
      "metadata": {
        "button": false,
        "new_sheet": false,
        "run_control": {
          "read_only": false
        }
      }
    },
    {
      "cell_type": "markdown",
      "source": "Let's learn more about the statistics associated with the dataframe using the `describe()` method.\n",
      "metadata": {
        "button": false,
        "new_sheet": false,
        "run_control": {
          "read_only": false
        }
      }
    },
    {
      "cell_type": "code",
      "source": "### type your answer here\nnew_df.describe()",
      "metadata": {
        "button": false,
        "jupyter": {
          "outputs_hidden": false
        },
        "new_sheet": false,
        "run_control": {
          "read_only": false
        },
        "scrolled": true,
        "collapsed": false,
        "trusted": true
      },
      "execution_count": null,
      "outputs": []
    },
    {
      "cell_type": "markdown",
      "source": "<details><summary>Click here for a sample python solution</summary>\n\n```python\n    #The correct answer is:    \n    new_df.describe()\n```\n\n</details>\n",
      "metadata": {
        "button": false,
        "new_sheet": false,
        "run_control": {
          "read_only": false
        }
      }
    },
    {
      "cell_type": "markdown",
      "source": "Step 3: Plot the box plots.\n",
      "metadata": {
        "button": false,
        "new_sheet": false,
        "run_control": {
          "read_only": false
        }
      }
    },
    {
      "cell_type": "code",
      "source": "### type your answer here\n\n\nnew_df.plot(kind='box', figsize=(10, 6))\n\n    plt.title('Immigration from top 15 countries for decades 80s, 90s and 2000s')\n\n    plt.show()",
      "metadata": {
        "button": false,
        "jupyter": {
          "outputs_hidden": false
        },
        "new_sheet": false,
        "run_control": {
          "read_only": false
        },
        "collapsed": false,
        "trusted": true
      },
      "execution_count": null,
      "outputs": []
    },
    {
      "cell_type": "markdown",
      "source": "<details><summary>Click here for a sample python solution</summary>\n\n```python\n    #The correct answer is:    \n    new_df.plot(kind='box', figsize=(10, 6))\n\n    plt.title('Immigration from top 15 countries for decades 80s, 90s and 2000s')\n\n    plt.show()\n\n```\n\n</details>\n",
      "metadata": {
        "button": false,
        "new_sheet": false,
        "run_control": {
          "read_only": false
        }
      }
    },
    {
      "cell_type": "markdown",
      "source": "Note how the box plot differs from the summary table created. The box plot scans the data and identifies the outliers. In order to be an outlier, the data value must be:<br>\n\n*   larger than Q3 by at least 1.5 times the interquartile range (IQR), or,\n*   smaller than Q1 by at least 1.5 times the IQR.\n\nLet's look at decade 2000s as an example: <br>\n\n*   Q1 (25%) = 36,101.5 <br>\n*   Q3 (75%) = 105,505.5 <br>\n*   IQR = Q3 - Q1 = 69,404 <br>\n\nUsing the definition of outlier, any value that is greater than Q3 by 1.5 times IQR will be flagged as outlier.\n\nOutlier > 105,505.5 + (1.5 \\* 69,404) <br>\nOutlier > 209,611.5\n",
      "metadata": {
        "button": false,
        "new_sheet": false,
        "run_control": {
          "read_only": false
        }
      }
    },
    {
      "cell_type": "code",
      "source": "# let's check how many entries fall above the outlier threshold \n",
      "metadata": {
        "button": false,
        "jupyter": {
          "outputs_hidden": false
        },
        "new_sheet": false,
        "run_control": {
          "read_only": false
        },
        "scrolled": true,
        "collapsed": false,
        "trusted": true
      },
      "execution_count": null,
      "outputs": []
    },
    {
      "cell_type": "markdown",
      "source": "<details><summary>Click here for a sample python solution</summary>\n\n```python\n    #The correct answer is:    \n    new_df=new_df.reset_index()\n    new_df[new_df['2000s']> 209611.5]\n\n```\n\n</details>\n",
      "metadata": {}
    },
    {
      "cell_type": "markdown",
      "source": "<!-- The correct answer is:\nnew_df[new_df['2000s']> 209611.5]\n-->\n",
      "metadata": {}
    },
    {
      "cell_type": "markdown",
      "source": "China and India are both considered as outliers since their population for the decade exceeds 209,611.5.\n\nThe box plot is an advanced visualizaiton tool, and there are many options and customizations that exceed the scope of this lab. Please refer to [Matplotlib documentation](http://matplotlib.org/api/pyplot_api.html?utm_medium=Exinfluencer&utm_source=Exinfluencer&utm_content=000026UJ&utm_term=10006555&utm_id=NA-SkillsNetwork-Channel-SkillsNetworkCoursesIBMDeveloperSkillsNetworkDV0101ENSkillsNetwork20297740-2021-01-01#matplotlib.pyplot.boxplot) on box plots for more information.\n",
      "metadata": {
        "button": false,
        "new_sheet": false,
        "run_control": {
          "read_only": false
        }
      }
    },
    {
      "cell_type": "markdown",
      "source": "# Scatter Plots <a id=\"10\"></a>\n\nA `scatter plot` (2D) is a useful method of comparing variables against each other. `Scatter` plots look similar to `line plots` in that they both map independent and dependent variables on a 2D graph. While the data points are connected together by a line in a line plot, they are not connected in a scatter plot. The data in a scatter plot is considered to express a trend. With further analysis using tools like regression, we can mathematically calculate this relationship and use it to predict trends outside the dataset.\n\nLet's start by exploring the following:\n\nUsing a `scatter plot`, let's visualize the trend of total immigrantion to Canada (all countries combined) for the years 1980 - 2013.\n",
      "metadata": {
        "button": false,
        "new_sheet": false,
        "run_control": {
          "read_only": false
        }
      }
    },
    {
      "cell_type": "markdown",
      "source": "Step 1: Get the dataset. Since we are expecting to use the relationship betewen `years` and `total population`, we will convert `years` to `int` type.\n",
      "metadata": {
        "button": false,
        "new_sheet": false,
        "run_control": {
          "read_only": false
        }
      }
    },
    {
      "cell_type": "code",
      "source": "# we can use the sum() method to get the total population per year\ndf_tot = pd.DataFrame(df_can[years].sum(axis=0))\n\n# change the years to type int (useful for regression later on)\ndf_tot.index = map(int, df_tot.index)\n\n# reset the index to put in back in as a column in the df_tot dataframe\ndf_tot.reset_index(inplace = True)\n\n# rename columns\ndf_tot.columns = ['year', 'total']\n\n# view the final dataframe\ndf_tot.head()",
      "metadata": {
        "button": false,
        "jupyter": {
          "outputs_hidden": false
        },
        "new_sheet": false,
        "run_control": {
          "read_only": false
        },
        "collapsed": false,
        "trusted": true
      },
      "execution_count": null,
      "outputs": []
    },
    {
      "cell_type": "markdown",
      "source": "Step 2: Plot the data. In `Matplotlib`, we can create a `scatter` plot set by passing in `kind='scatter'` as plot argument. We will also need to pass in `x` and `y` keywords to specify the columns that go on the x- and the y-axis.\n",
      "metadata": {
        "button": false,
        "new_sheet": false,
        "run_control": {
          "read_only": false
        }
      }
    },
    {
      "cell_type": "code",
      "source": "df_tot.plot(kind='scatter', x='year', y='total', figsize=(10, 6), color='darkblue')\n\nplt.title('Total Immigration to Canada from 1980 - 2013')\nplt.xlabel('Year')\nplt.ylabel('Number of Immigrants')\n\nplt.show()",
      "metadata": {
        "button": false,
        "jupyter": {
          "outputs_hidden": false
        },
        "new_sheet": false,
        "run_control": {
          "read_only": false
        },
        "collapsed": false,
        "trusted": true
      },
      "execution_count": null,
      "outputs": []
    },
    {
      "cell_type": "markdown",
      "source": "Notice how the scatter plot does not connect the data  points together. We can clearly observe an upward trend in the data: as the years go by, the total number of immigrants increases. We can mathematically analyze this upward trend using a regression line (line of best fit).\n",
      "metadata": {
        "button": false,
        "new_sheet": false,
        "run_control": {
          "read_only": false
        }
      }
    },
    {
      "cell_type": "markdown",
      "source": "So let's try to plot a linear line of best fit, and use it to  predict the number of immigrants in 2015.\n\nStep 1: Get the equation of line of best fit. We will use **Numpy**'s `polyfit()` method by passing in the following:\n\n*   `x`: x-coordinates of the data.\n*   `y`: y-coordinates of the data.\n*   `deg`: Degree of fitting polynomial. 1 = linear, 2 = quadratic, and so on.\n",
      "metadata": {
        "button": false,
        "new_sheet": false,
        "run_control": {
          "read_only": false
        }
      }
    },
    {
      "cell_type": "code",
      "source": "x = df_tot['year']      # year on x-axis\ny = df_tot['total']     # total on y-axis\nfit = np.polyfit(x, y, deg=1)\n\nfit",
      "metadata": {
        "button": false,
        "jupyter": {
          "outputs_hidden": false
        },
        "new_sheet": false,
        "run_control": {
          "read_only": false
        },
        "collapsed": false,
        "trusted": true
      },
      "execution_count": null,
      "outputs": []
    },
    {
      "cell_type": "markdown",
      "source": "The output is an array with the polynomial coefficients, highest powers first. Since we are plotting a linear regression `y= a * x + b`, our output has 2 elements `[5.56709228e+03, -1.09261952e+07]` with the the slope in position 0 and intercept in position 1.\n\nStep 2: Plot the regression line on the `scatter plot`.\n",
      "metadata": {
        "button": false,
        "new_sheet": false,
        "run_control": {
          "read_only": false
        }
      }
    },
    {
      "cell_type": "code",
      "source": "df_tot.plot(kind='scatter', x='year', y='total', figsize=(10, 6), color='darkblue')\n\nplt.title('Total Immigration to Canada from 1980 - 2013')\nplt.xlabel('Year')\nplt.ylabel('Number of Immigrants')\n\n# plot line of best fit\nplt.plot(x, fit[0] * x + fit[1], color='red') # recall that x is the Years\nplt.annotate('y={0:.0f} x + {1:.0f}'.format(fit[0], fit[1]), xy=(2000, 150000))\n\nplt.show()\n\n# print out the line of best fit\n'No. Immigrants = {0:.0f} * Year + {1:.0f}'.format(fit[0], fit[1]) ",
      "metadata": {
        "button": false,
        "jupyter": {
          "outputs_hidden": false
        },
        "new_sheet": false,
        "run_control": {
          "read_only": false
        },
        "collapsed": false,
        "trusted": true
      },
      "execution_count": null,
      "outputs": []
    },
    {
      "cell_type": "markdown",
      "source": "Using the equation of line of best fit, we can estimate the number of immigrants in 2015:\n\n```python\nNo. Immigrants = 5567 * Year - 10926195\nNo. Immigrants = 5567 * 2015 - 10926195\nNo. Immigrants = 291,310\n```\n\nWhen compared to the actual from Citizenship and Immigration Canada's (CIC) [2016 Annual Report](http://www.cic.gc.ca/english/resources/publications/annual-report-2016/index.asp?utm_medium=Exinfluencer&utm_source=Exinfluencer&utm_content=000026UJ&utm_term=10006555&utm_id=NA-SkillsNetwork-Channel-SkillsNetworkCoursesIBMDeveloperSkillsNetworkDV0101ENSkillsNetwork20297740-2021-01-01), we see that Canada accepted 271,845 immigrants in 2015. Our estimated value of 291,310 is within 7% of the actual number, which is pretty good considering our original data came from United Nations (and might differ slightly from CIC data).\n\nAs a side note, we can observe that immigration took a dip around 1993 - 1997. Further analysis into the topic revealed that in 1993 Canada introcuded Bill C-86 which introduced revisions to the refugee determination system, mostly restrictive. Further amendments to the Immigration Regulations cancelled the sponsorship required for \"assisted relatives\" and reduced the points awarded to them, making it more difficult for family members (other than nuclear family) to immigrate to Canada. These restrictive measures had a direct impact on the immigration numbers for the next several years.\n",
      "metadata": {
        "button": false,
        "new_sheet": false,
        "run_control": {
          "read_only": false
        }
      }
    },
    {
      "cell_type": "markdown",
      "source": "**Question**: Create a scatter plot of the total immigration from Denmark, Norway, and Sweden to Canada from 1980 to 2013?\n",
      "metadata": {
        "button": false,
        "new_sheet": false,
        "run_control": {
          "read_only": false
        }
      }
    },
    {
      "cell_type": "markdown",
      "source": "**Step 1**: Get the data:\n\n1.  Create a dataframe the consists of the numbers associated with Denmark, Norway, and Sweden only. Name it **df_countries**.\n2.  Sum the immigration numbers across all three countries for each year and turn the result into a dataframe. Name this new dataframe **df_total**.\n3.  Reset the index in place.\n4.  Rename the columns to **year** and **total**.\n5.  Display the resulting dataframe.\n",
      "metadata": {
        "button": false,
        "new_sheet": false,
        "run_control": {
          "read_only": false
        }
      }
    },
    {
      "cell_type": "code",
      "source": "### type your answer here\n\n\n\n",
      "metadata": {
        "button": false,
        "jupyter": {
          "outputs_hidden": false
        },
        "new_sheet": false,
        "run_control": {
          "read_only": false
        },
        "scrolled": true,
        "collapsed": false,
        "trusted": true
      },
      "execution_count": null,
      "outputs": []
    },
    {
      "cell_type": "markdown",
      "source": "<details><summary>Click here for a sample python solution</summary>\n\n```python\n    #The correct answer is:  \n    \n    # create df_countries dataframe\n    df_countries = df_can.loc[['Denmark', 'Norway', 'Sweden'], years].transpose()\n\n    # create df_total by summing across three countries for each year\n    df_total = pd.DataFrame(df_countries.sum(axis=1))\n\n    # reset index in place\n    df_total.reset_index(inplace=True)\n\n    # rename columns\n    df_total.columns = ['year', 'total']\n\n    # change column year from string to int to create scatter plot\n    df_total['year'] = df_total['year'].astype(int)\n\n    # show resulting dataframe\n    df_total.head()\n\n\n```\n\n</details>\n",
      "metadata": {
        "button": false,
        "new_sheet": false,
        "run_control": {
          "read_only": false
        }
      }
    },
    {
      "cell_type": "markdown",
      "source": "**Step 2**: Generate the scatter plot by plotting the total versus year in **df_total**.\n",
      "metadata": {
        "button": false,
        "new_sheet": false,
        "run_control": {
          "read_only": false
        }
      }
    },
    {
      "cell_type": "code",
      "source": "### type your answer here\n\n\n\n",
      "metadata": {
        "button": false,
        "jupyter": {
          "outputs_hidden": false
        },
        "new_sheet": false,
        "run_control": {
          "read_only": false
        },
        "collapsed": false,
        "trusted": true
      },
      "execution_count": null,
      "outputs": []
    },
    {
      "cell_type": "markdown",
      "source": "<details><summary>Click here for a sample python solution</summary>\n\n```python\n    #The correct answer is:  \n    \n    # generate scatter plot\n    df_total.plot(kind='scatter', x='year', y='total', figsize=(10, 6), color='darkblue')\n\n    # add title and label to axes\n    plt.title('Immigration from Denmark, Norway, and Sweden to Canada from 1980 - 2013')\n    plt.xlabel('Year')\n    plt.ylabel('Number of Immigrants')\n\n    # show plot\n    plt.show()\n\n\n```\n\n</details>\n",
      "metadata": {
        "button": false,
        "new_sheet": false,
        "run_control": {
          "read_only": false
        }
      }
    },
    {
      "cell_type": "markdown",
      "source": "# Bubble Plots <a id=\"12\"></a>\n\nA `bubble plot` is a variation of the `scatter plot` that displays three dimensions of data (x, y, z). The data points are replaced with bubbles, and the size of the bubble is determined by the third variable `z`, also known as the weight. In `maplotlib`, we can pass in an array or scalar to the parameter `s` to `plot()`, that contains the weight of each point.\n\n**Let's start by analyzing the effect of Argentina's great depression**.\n\nArgentina suffered a great depression from 1998 to 2002, which caused widespread unemployment, riots, the fall of the government, and a default on the country's foreign debt. In terms of income, over 50% of Argentines were poor, and seven out of ten Argentine children were poor at the depth of the crisis in 2002.\n\nLet's analyze the effect of this crisis, and compare Argentina's immigration to that of it's neighbour Brazil. Let's do that using a `bubble plot` of immigration from Brazil and Argentina for the years 1980 - 2013. We will set the weights for the bubble as the *normalized* value of the population for each year.\n",
      "metadata": {
        "button": false,
        "new_sheet": false,
        "run_control": {
          "read_only": false
        }
      }
    },
    {
      "cell_type": "markdown",
      "source": "**Step 1**: Get the data for Brazil and Argentina. Like in the previous example, we will convert the `Years` to type int and include it in the dataframe.\n",
      "metadata": {
        "button": false,
        "new_sheet": false,
        "run_control": {
          "read_only": false
        }
      }
    },
    {
      "cell_type": "code",
      "source": "# transposed dataframe\ndf_can_t = df_can[years].transpose()\n\n# cast the Years (the index) to type int\ndf_can_t.index = map(int, df_can_t.index)\n\n# let's label the index. This will automatically be the column name when we reset the index\ndf_can_t.index.name = 'Year'\n\n# reset index to bring the Year in as a column\ndf_can_t.reset_index(inplace=True)\n\n# view the changes\ndf_can_t.head()",
      "metadata": {
        "button": false,
        "jupyter": {
          "outputs_hidden": false
        },
        "new_sheet": false,
        "run_control": {
          "read_only": false
        },
        "scrolled": true,
        "collapsed": false,
        "trusted": true
      },
      "execution_count": null,
      "outputs": []
    },
    {
      "cell_type": "markdown",
      "source": "**Step 2**: Create the normalized weights.\n\nThere are several methods of normalizations in statistics, each with its own use. In this case, we will use [feature scaling](https://en.wikipedia.org/wiki/Feature_scaling?utm_medium=Exinfluencer&utm_source=Exinfluencer&utm_content=000026UJ&utm_term=10006555&utm_id=NA-SkillsNetwork-Channel-SkillsNetworkCoursesIBMDeveloperSkillsNetworkDV0101ENSkillsNetwork20297740-2021-01-01) to bring all values into the range \\[0, 1]. The general formula is:\n\n<img src=\"https://cf-courses-data.s3.us.cloud-object-storage.appdomain.cloud/IBMDeveloperSkillsNetwork-DV0101EN-SkillsNetwork/labs/Module%203/images/Mod3Fig3FeatureScaling.png\" align=\"center\">\n\nwhere $X$ is the original value, $X'$ is the corresponding normalized value. The formula sets the max value in the dataset to 1, and sets the min value to 0. The rest of the data points are scaled to a value between 0-1 accordingly.\n",
      "metadata": {
        "button": false,
        "new_sheet": false,
        "run_control": {
          "read_only": false
        }
      }
    },
    {
      "cell_type": "code",
      "source": "# normalize Brazil data\nnorm_brazil = (df_can_t['Brazil'] - df_can_t['Brazil'].min()) / (df_can_t['Brazil'].max() - df_can_t['Brazil'].min())\n\n# normalize Argentina data\nnorm_argentina = (df_can_t['Argentina'] - df_can_t['Argentina'].min()) / (df_can_t['Argentina'].max() - df_can_t['Argentina'].min())",
      "metadata": {
        "button": false,
        "jupyter": {
          "outputs_hidden": false
        },
        "new_sheet": false,
        "run_control": {
          "read_only": false
        },
        "scrolled": true,
        "collapsed": false,
        "trusted": true
      },
      "execution_count": null,
      "outputs": []
    },
    {
      "cell_type": "markdown",
      "source": "**Step 3**: Plot the data.\n\n*   To plot two different scatter plots in one plot, we can include the axes one plot into the other by passing it via the `ax` parameter.\n*   We will also pass in the weights using the `s` parameter. Given that the normalized weights are between 0-1, they won't be visible on the plot. Therefore, we will:\n    *   multiply weights by 2000 to scale it up on the graph, and,\n    *   add 10 to compensate for the min value (which has a 0 weight and therefore scale with $\\times 2000$).\n",
      "metadata": {
        "button": false,
        "new_sheet": false,
        "run_control": {
          "read_only": false
        }
      }
    },
    {
      "cell_type": "code",
      "source": "# Brazil\nax0 = df_can_t.plot(kind='scatter',\n                    x='Year',\n                    y='Brazil',\n                    figsize=(14, 8),\n                    alpha=0.5,  # transparency\n                    color='green',\n                    s=norm_brazil * 2000 + 10,  # pass in weights \n                    xlim=(1975, 2015)\n                    )\n\n# Argentina\nax1 = df_can_t.plot(kind='scatter',\n                    x='Year',\n                    y='Argentina',\n                    alpha=0.5,\n                    color=\"blue\",\n                    s=norm_argentina * 2000 + 10,\n                    ax=ax0\n                    )\n\nax0.set_ylabel('Number of Immigrants')\nax0.set_title('Immigration from Brazil and Argentina from 1980 to 2013')\nax0.legend(['Brazil', 'Argentina'], loc='upper left', fontsize='x-large')",
      "metadata": {
        "button": false,
        "jupyter": {
          "outputs_hidden": false
        },
        "new_sheet": false,
        "run_control": {
          "read_only": false
        },
        "collapsed": false,
        "trusted": true
      },
      "execution_count": null,
      "outputs": []
    },
    {
      "cell_type": "markdown",
      "source": "The size of the bubble corresponds to the magnitude of immigrating population for that year, compared to the 1980 - 2013 data. The larger the bubble is, the more immigrants are in that year.\n\nFrom the plot above, we can see a corresponding increase in immigration from Argentina during the 1998 - 2002 great depression. We can also observe a similar spike around 1985 to 1993. In fact, Argentina had suffered a great depression from 1974 to 1990, just before the onset of 1998 - 2002 great depression.\n\nOn a similar note, Brazil suffered the *Samba Effect* where the Brazilian real (currency) dropped nearly 35% in 1999. There was a fear of a South American financial crisis as many South American countries were heavily dependent on industrial exports from Brazil. The Brazilian government subsequently adopted an austerity program, and the economy slowly recovered over the years, culminating in a surge in 2010. The immigration data reflect these events.\n",
      "metadata": {
        "button": false,
        "new_sheet": false,
        "run_control": {
          "read_only": false
        }
      }
    },
    {
      "cell_type": "markdown",
      "source": "**Question**: Previously in this lab, we created box plots to compare immigration from China and India to Canada. Create bubble plots of immigration from China and India to visualize any differences with time from 1980 to 2013. You can use **df_can_t** that we defined and used in the previous example.\n",
      "metadata": {
        "button": false,
        "new_sheet": false,
        "run_control": {
          "read_only": false
        }
      }
    },
    {
      "cell_type": "markdown",
      "source": "Step 1: Normalize the data pertaining to China and India.\n",
      "metadata": {
        "button": false,
        "new_sheet": false,
        "run_control": {
          "read_only": false
        }
      }
    },
    {
      "cell_type": "code",
      "source": "### type your answer here\n\n# normalized Chinese data\n# norm_china = ...\n# normalized Indian data\n# norm_india = ...\n\n",
      "metadata": {
        "button": false,
        "new_sheet": false,
        "run_control": {
          "read_only": false
        },
        "trusted": true
      },
      "execution_count": null,
      "outputs": []
    },
    {
      "cell_type": "markdown",
      "source": "<details><summary>Click here for a sample python solution</summary>\n\n```python\n    #The correct answer is:  \n    \n    # normalized Chinese data\n    norm_china = (df_can_t['China'] - df_can_t['China'].min()) / (df_can_t['China'].max() - df_can_t['China'].min())\n    # normalized Indian data\n    norm_india = (df_can_t['India'] - df_can_t['India'].min()) / (df_can_t['India'].max() - df_can_t['India'].min())\n\n\n```\n\n</details>\n",
      "metadata": {
        "button": false,
        "new_sheet": false,
        "run_control": {
          "read_only": false
        }
      }
    },
    {
      "cell_type": "markdown",
      "source": "Step 2: Generate the bubble plots.\n",
      "metadata": {
        "button": false,
        "new_sheet": false,
        "run_control": {
          "read_only": false
        }
      }
    },
    {
      "cell_type": "code",
      "source": "### type your answer here\n\n\n\n",
      "metadata": {
        "button": false,
        "jupyter": {
          "outputs_hidden": false
        },
        "new_sheet": false,
        "run_control": {
          "read_only": false
        },
        "collapsed": false,
        "trusted": true
      },
      "execution_count": null,
      "outputs": []
    },
    {
      "cell_type": "markdown",
      "source": "<details><summary>Click here for a sample python solution</summary>\n\n```python\n    #The correct answer is:  \n    \n    # China\n    ax0 = df_can_t.plot(kind='scatter',\n                        x='Year',\n                        y='China',\n                        figsize=(14, 8),\n                        alpha=0.5,                  # transparency\n                        color='green',\n                        s=norm_china * 2000 + 10,  # pass in weights \n                        xlim=(1975, 2015)\n                       )\n\n    # India\n    ax1 = df_can_t.plot(kind='scatter',\n                        x='Year',\n                        y='India',\n                        alpha=0.5,\n                        color=\"blue\",\n                        s=norm_india * 2000 + 10,\n                        ax = ax0\n                       )\n\n    ax0.set_ylabel('Number of Immigrants')\n    ax0.set_title('Immigration from China and India from 1980 - 2013')\n    ax0.legend(['China', 'India'], loc='upper left', fontsize='x-large')\n\n\n```\n\n</details>\n",
      "metadata": {
        "button": false,
        "new_sheet": false,
        "run_control": {
          "read_only": false
        }
      }
    },
    {
      "cell_type": "markdown",
      "source": "### Thank you for completing this lab!\n\n## Author\n\n<a href=\"https://www.linkedin.com/in/aklson/?utm_medium=Exinfluencer&utm_source=Exinfluencer&utm_content=000026UJ&utm_term=10006555&utm_id=NA-SkillsNetwork-Channel-SkillsNetworkCoursesIBMDeveloperSkillsNetworkDV0101ENSkillsNetwork20297740-2021-01-01\">Alex Aklson</a>\n\n### Other Contributors\n\n[Jay Rajasekharan](https://www.linkedin.com/in/jayrajasekharan?utm_medium=Exinfluencer&utm_source=Exinfluencer&utm_content=000026UJ&utm_term=10006555&utm_id=NA-SkillsNetwork-Channel-SkillsNetworkCoursesIBMDeveloperSkillsNetworkDV0101ENSkillsNetwork20297740-2021-01-01),\n[Ehsan M. Kermani](https://www.linkedin.com/in/ehsanmkermani?utm_medium=Exinfluencer&utm_source=Exinfluencer&utm_content=000026UJ&utm_term=10006555&utm_id=NA-SkillsNetwork-Channel-SkillsNetworkCoursesIBMDeveloperSkillsNetworkDV0101ENSkillsNetwork20297740-2021-01-01),\n[Slobodan Markovic](https://www.linkedin.com/in/slobodan-markovic?utm_medium=Exinfluencer&utm_source=Exinfluencer&utm_content=000026UJ&utm_term=10006555&utm_id=NA-SkillsNetwork-Channel-SkillsNetworkCoursesIBMDeveloperSkillsNetworkDV0101ENSkillsNetwork20297740-2021-01-01),\n[Weiqing Wang](https://www.linkedin.com/in/weiqing-wang-641640133?utm_medium=Exinfluencer&utm_source=Exinfluencer&utm_content=000026UJ&utm_term=10006555&utm_id=NA-SkillsNetwork-Channel-SkillsNetworkCoursesIBMDeveloperSkillsNetworkDV0101ENSkillsNetwork20297740-2021-01-01).\n\n## Change Log\n\n| Date (YYYY-MM-DD) | Version | Changed By   | Change Description                 |\n| ----------------- | ------- | ------------ | ---------------------------------- |\n| 2021-05-29        | 2.6     | Weiqing Wang | Fixed typos and code smells.       |\n| 2021-01-20        | 2.5     | LakshmiHolla | Changed TOC markdown section       |\n| 2021-01-05        | 2.4     | LakshmiHolla | Changed markdown for outliers      |\n| 2020-11-12        | 2.3     | LakshmiHolla | Added example code for outliers    |\n| 2020-11-03        | 2.2     | LakshmiHolla | Changed URL of excel file          |\n| 2020-09-29        | 2.1     | LakshmiHolla | Made fix to a boxplot label        |\n| 2020-08-27        | 2.0     | Lavanya      | Moved lab to course repo in GitLab |\n\n## <h3 align=\"center\"> © IBM Corporation 2020. All rights reserved. <h3/>\n",
      "metadata": {
        "button": false,
        "new_sheet": false,
        "run_control": {
          "read_only": false
        }
      }
    }
  ]
}